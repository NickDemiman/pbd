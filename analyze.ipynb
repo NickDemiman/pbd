{
 "cells": [
  {
   "cell_type": "code",
   "execution_count": 1,
   "metadata": {},
   "outputs": [],
   "source": [
    "import pandas as pd\n",
    "from modules.db_manager import DBManager\n",
    "import matplotlib.pyplot as plt\n",
    "from sklearn.preprocessing import LabelEncoder\n",
    "from scipy.cluster.hierarchy import dendrogram\n",
    "import numpy as np\n",
    "from sklearn import cluster\n",
    "from tqdm import tqdm\n",
    "from modules.logger import Logger\n",
    "from time import process_time"
   ]
  },
  {
   "cell_type": "code",
   "execution_count": 2,
   "metadata": {},
   "outputs": [],
   "source": [
    "def price_repair(str_repr):\n",
    "    if str_repr:\n",
    "        return str_repr.split(',')[1]\n",
    "    else:\n",
    "        return str_repr\n",
    "    \n",
    "def developers_repair(list_reprs):\n",
    "    if list_reprs:\n",
    "        return list_reprs[0]\n",
    "    return list_reprs\n",
    "\n",
    "def publishers_repair(list_reprs):\n",
    "    if list_reprs:\n",
    "        return list_reprs[0]\n",
    "    return list_reprs\n",
    "\n",
    "def platforms_repair(str_repr):\n",
    "    if str_repr:\n",
    "        str_repr = str_repr[1:-1].split(',')\n",
    "        hs = 0\n",
    "        for i in range(3):\n",
    "            if str_repr[i] == 't':\n",
    "                hs += 2**i\n",
    "        return hs\n",
    "    return str_repr\n",
    "\n",
    "def plot_dendrogram(model, **kwargs):\n",
    "    # Create linkage matrix and then plot the dendrogram\n",
    "\n",
    "    # create the counts of samples under each node\n",
    "    counts = np.zeros(model.children_.shape[0])\n",
    "    n_samples = len(model.labels_)\n",
    "    for i, merge in enumerate(model.children_):\n",
    "        current_count = 0\n",
    "        for child_idx in merge:\n",
    "            if child_idx < n_samples:\n",
    "                current_count += 1  # leaf node\n",
    "            else:\n",
    "                current_count += counts[child_idx - n_samples]\n",
    "        counts[i] = current_count\n",
    "\n",
    "    linkage_matrix = np.column_stack(\n",
    "        [model.children_, model.distances_, counts]\n",
    "    ).astype(float)\n",
    "\n",
    "    dendrogram(linkage_matrix, **kwargs)"
   ]
  },
  {
   "cell_type": "code",
   "execution_count": 3,
   "metadata": {},
   "outputs": [],
   "source": [
    "logger = Logger()\n",
    "manager = DBManager()"
   ]
  },
  {
   "cell_type": "code",
   "execution_count": 4,
   "metadata": {},
   "outputs": [],
   "source": [
    "tags_cols = ['id', 'name']\n",
    "categories_cols = ['id', 'type', 'internal_name', 'display_name', 'image_url']\n",
    "apps_cols = [\n",
    "            \"id\",  \n",
    "            \"name\",  \n",
    "            \"type\",\n",
    "            \"required_age\",  \n",
    "            \"is_free\",\n",
    "            \"controller_support\",  \n",
    "            \"detailed_description\",  \n",
    "            \"about_the_game\",  \n",
    "            \"short_description\",  \n",
    "            \"supported_languages\",  \n",
    "            \"header_image\",  \n",
    "            \"website\",  \n",
    "            \"pc_requirements\",\n",
    "            \"mac_requirements\", \n",
    "            \"linux_requirements\",\n",
    "            \"legal_notice\",  \n",
    "            \"developers\",  \n",
    "            \"publishers\",  \n",
    "            \"price_overview\",\n",
    "            \"packages\",\n",
    "            \"package_groups\",\n",
    "            \"platforms\",\n",
    "            \"screenshots\",\n",
    "            \"achievements\",\n",
    "            \"release_date\", \n",
    "            \"support_info\",\n",
    "            \"background\",  \n",
    "            \"background_raw\",\n",
    "            \"content_descriptors\"\n",
    "]\n",
    "tags_df = pd.DataFrame(data=manager.get_tags(), columns=tags_cols)\n",
    "categories_df = pd.DataFrame(data=manager.get_categories(), columns=categories_cols)\n",
    "apps_df = pd.DataFrame(data=manager.get_apps(), columns=apps_cols)"
   ]
  },
  {
   "cell_type": "code",
   "execution_count": 5,
   "metadata": {},
   "outputs": [],
   "source": [
    "logger.write(\n",
    "'''\n",
    "# Столбцы датасета\n",
    "## Теги\n",
    "'''\n",
    ")\n",
    "logger.write_list(tags_cols)\n",
    "logger.write('## Категории')\n",
    "logger.write_list(categories_cols)\n",
    "logger.write('## Приложения')\n",
    "logger.write_list(apps_cols)"
   ]
  },
  {
   "cell_type": "code",
   "execution_count": 6,
   "metadata": {},
   "outputs": [],
   "source": [
    "whole_count = apps_df.count()[0]\n",
    "nulls = [col for col in apps_df.columns if apps_df[col].isnull().sum() > 0]\n",
    "nulls_count_by_column = [\n",
    "    (c, apps_df[c].isnull().sum()) for c in nulls\n",
    "]\n",
    "to_drop = [\n",
    "    col[0] for col in nulls_count_by_column if col[1] == whole_count\n",
    "]\n",
    "apps_df.drop(columns=to_drop, inplace=True)\n",
    "nulls = [col for col in apps_df.columns if apps_df[col].isnull().sum() > 0]\n",
    "stats = [(c, int(apps_df[c].isnull().sum()), round(apps_df[c].isnull().mean()*100, 2).__str__()+'%%') for c in nulls]"
   ]
  },
  {
   "cell_type": "code",
   "execution_count": 7,
   "metadata": {},
   "outputs": [],
   "source": [
    "logger.write('# Статистика Датасета')\n",
    "logger.write('## Количество строк: {}'.format(whole_count))\n",
    "logger.write('## Количество пустых значений по столбцам')\n",
    "logger.write_list(stats)\n",
    "logger.write('## Столбцы, подлежащие удалению')\n",
    "logger.write_list(to_drop)"
   ]
  },
  {
   "cell_type": "code",
   "execution_count": 8,
   "metadata": {},
   "outputs": [],
   "source": [
    "new_apps_df = apps_df.drop(columns=['detailed_description', 'about_the_game', 'short_description', 'supported_languages', 'header_image', 'website',\n",
    "                      'pc_requirements', 'mac_requirements', 'linux_requirements', 'screenshots', 'background', 'background_raw', 'name', 'legal_notice', 'id'])"
   ]
  },
  {
   "cell_type": "code",
   "execution_count": 9,
   "metadata": {},
   "outputs": [],
   "source": [
    "logger.write('# Очистка таблиц от лишних столбцов и пустых значений')\n",
    "logger.write('## Изначальная талица')\n",
    "logger.write_table(apps_df.head())\n",
    "\n",
    "logger.write('## Таблица после удаления лишних столбцов')\n",
    "logger.write_table(new_apps_df.head())"
   ]
  },
  {
   "cell_type": "code",
   "execution_count": 10,
   "metadata": {},
   "outputs": [],
   "source": [
    "apps_df = new_apps_df\n",
    "apps_df['price_overview'] = apps_df['price_overview'].apply(price_repair)\n",
    "apps_df['developers'] = apps_df['developers'].apply(developers_repair)\n",
    "apps_df['publishers'] = apps_df['publishers'].apply(publishers_repair)\n",
    "apps_df['platforms'] = apps_df['platforms'].apply(platforms_repair)"
   ]
  },
  {
   "cell_type": "code",
   "execution_count": 11,
   "metadata": {},
   "outputs": [],
   "source": [
    "logger.write('## Обрабатываем колонки')\n",
    "logger.write_list(['price_overview', 'developers', 'publishers', 'platforms'])\n",
    "logger.write_table(apps_df.head())"
   ]
  },
  {
   "cell_type": "code",
   "execution_count": 12,
   "metadata": {},
   "outputs": [],
   "source": [
    "whole_count = apps_df.count()[0]\n",
    "nulls = [col for col in apps_df.columns if apps_df[col].isnull().sum() > 0]\n",
    "stats = [(c, int(apps_df[c].isnull().sum()), round(apps_df[c].isnull().mean()*100, 2).__str__()+'%%') for c in nulls]"
   ]
  },
  {
   "cell_type": "code",
   "execution_count": 13,
   "metadata": {},
   "outputs": [],
   "source": [
    "logger.write('## Удаляем пропуски')\n",
    "logger.write('Пустые значеня до')\n",
    "logger.write_list(stats)\n",
    "logger.write(f'Всего строк: {whole_count}')"
   ]
  },
  {
   "cell_type": "code",
   "execution_count": 14,
   "metadata": {},
   "outputs": [],
   "source": [
    "apps_df.dropna(inplace=True)\n",
    "whole_count = apps_df.count()[0]\n",
    "nulls = [col for col in apps_df.columns if apps_df[col].isnull().sum() > 0]\n",
    "stats = [(c, int(apps_df[c].isnull().sum()), round(apps_df[c].isnull().mean()*100, 2).__str__()+'%%') for c in nulls]"
   ]
  },
  {
   "cell_type": "code",
   "execution_count": 15,
   "metadata": {},
   "outputs": [],
   "source": [
    "logger.write('Пустые значеня после')\n",
    "logger.write_list(stats)\n",
    "logger.write(f'Всего строк: {whole_count}')"
   ]
  },
  {
   "cell_type": "code",
   "execution_count": 16,
   "metadata": {},
   "outputs": [],
   "source": [
    "le = LabelEncoder()\n",
    "apps_df['type'] = le.fit_transform(apps_df['type'])\n",
    "apps_df['developers'] = le.fit_transform(apps_df['developers'])\n",
    "apps_df['publishers'] = le.fit_transform(apps_df['publishers'])"
   ]
  },
  {
   "cell_type": "code",
   "execution_count": 17,
   "metadata": {},
   "outputs": [],
   "source": [
    "logger.write('## Кодируем категориальные признаки')\n",
    "logger.write('Признаки для кодирования:')\n",
    "logger.write_list(['type', 'developers', 'publishers'])\n",
    "logger.write('**Результат кодирования**')\n",
    "logger.write_table(apps_df.head())\n",
    "logger.write('## Проводим кластеризацию')"
   ]
  },
  {
   "cell_type": "code",
   "execution_count": 18,
   "metadata": {},
   "outputs": [
    {
     "name": "stderr",
     "output_type": "stream",
     "text": [
      "100%|██████████| 21/21 [01:25<00:00,  4.06s/it]\n"
     ]
    },
    {
     "data": {
      "image/png": "[encoded data removed]",
      "text/plain": [
       "<Figure size 2000x1000 with 1 Axes>"
      ]
     },
     "metadata": {},
     "output_type": "display_data"
    }
   ],
   "source": [
    "start_alg = process_time()\n",
    "f = plt.figure(figsize=(20,10))\n",
    "plt.xlabel('Кол-во кластеров')\n",
    "plt.ylabel('Время выполнения')\n",
    "bar = tqdm(total=21)\n",
    "legends = []\n",
    "\n",
    "for i in range(1, len(apps_df.columns)+1):\n",
    "    clusters = []\n",
    "    times = []\n",
    "    for n_clusters in [5,10,20]:\n",
    "        start_iter = process_time()\n",
    "        model = cluster.AgglomerativeClustering(n_clusters=n_clusters, distance_threshold=None, compute_distances=True)\n",
    "        model = model.fit(apps_df[apps_df.columns[:i]])\n",
    "        end_iter = process_time() - start_iter\n",
    "        \n",
    "        clusters.append(n_clusters)\n",
    "        times.append(end_iter)\n",
    "        \n",
    "        logger.write(f'Кол-во кластеров: {n_clusters}')\n",
    "        logger.write(f'Время выполнения: {end_iter}')\n",
    "        bar.update()\n",
    "\n",
    "    end_alg = process_time() - start_alg\n",
    "    logger.write(f'__Все время выполения алгоритма__: {end_alg}')\n",
    "    logger.write('***')\n",
    "    plt.plot(clusters, times, label=f'{i}')\n",
    "    legends.append(f'{i}')\n",
    "bar.close()\n",
    "plt.legend(legends)\n",
    "plt.savefig(\n",
    "    logger.folder + '/' + logger.diagrams+'/'+f'time_diagram', \n",
    "    dpi='figure'\n",
    ")\n",
    "logger.write('## График зависимости времени выпоолнения от кол-ва кластеров')\n",
    "logger.write_image('Временная диаграмма', 'time_diagram')"
   ]
  }
 ],
 "metadata": {
  "kernelspec": {
   "display_name": ".venv",
   "language": "python",
   "name": "python3"
  },
  "language_info": {
   "codemirror_mode": {
    "name": "ipython",
    "version": 3
   },
   "file_extension": ".py",
   "mimetype": "text/x-python",
   "name": "python",
   "nbconvert_exporter": "python",
   "pygments_lexer": "ipython3",
   "version": "3.10.10"
  },
  "orig_nbformat": 4
 },
 "nbformat": 4,
 "nbformat_minor": 2
}
